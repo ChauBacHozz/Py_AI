{
 "cells": [
  {
   "cell_type": "code",
   "execution_count": 1,
   "metadata": {},
   "outputs": [],
   "source": [
    "import numpy as np\n",
    "import pandas as pd\n",
    "import matplotlib.pyplot as plt"
   ]
  },
  {
   "cell_type": "code",
   "execution_count": 2,
   "metadata": {},
   "outputs": [],
   "source": [
    "X_train = pd.read_csv(\"./logistic_regression_datasets/train_X.csv\")\n",
    "y_train = pd.read_csv(\"./logistic_regression_datasets/train_Y.csv\")\n",
    "X_test = pd.read_csv(\"./logistic_regression_datasets/test_X.csv\")\n",
    "y_test = pd.read_csv(\"./logistic_regression_datasets/test_Y.csv\")"
   ]
  },
  {
   "cell_type": "code",
   "execution_count": 3,
   "metadata": {},
   "outputs": [],
   "source": [
    "X_train = X_train.drop([\"Id\"], axis = 1)\n",
    "y_train = y_train.drop([\"Id\"], axis = 1)\n",
    "X_test = X_test.drop([\"Id\"], axis = 1)\n",
    "y_test = y_test.drop([\"Id\"], axis = 1)"
   ]
  },
  {
   "cell_type": "code",
   "execution_count": 4,
   "metadata": {},
   "outputs": [
    {
     "name": "stdout",
     "output_type": "stream",
     "text": [
      "(891, 7)\n",
      "(891, 1)\n"
     ]
    }
   ],
   "source": [
    "print(X_train.shape)\n",
    "print(y_train.shape)"
   ]
  },
  {
   "cell_type": "code",
   "execution_count": 5,
   "metadata": {},
   "outputs": [],
   "source": [
    "X_train = X_train.values.T\n",
    "y_train = y_train.values.T\n",
    "X_test = X_test.values.T\n",
    "y_test = y_test.values.T\n"
   ]
  },
  {
   "cell_type": "code",
   "execution_count": 6,
   "metadata": {},
   "outputs": [
    {
     "name": "stdout",
     "output_type": "stream",
     "text": [
      "(7, 891)\n",
      "(1, 891)\n"
     ]
    }
   ],
   "source": [
    "print(X_train.shape)\n",
    "print(y_train.shape)"
   ]
  },
  {
   "cell_type": "code",
   "execution_count": 7,
   "metadata": {},
   "outputs": [],
   "source": [
    "def sigmoid_predict(x):\n",
    "    return 1 / (1 + np.exp(-x))"
   ]
  },
  {
   "cell_type": "code",
   "execution_count": 8,
   "metadata": {},
   "outputs": [],
   "source": [
    "# def model(x, y, learning_rate, iter):\n",
    "#     m = x.shape[1]\n",
    "#     n = x.shape[0]\n",
    "\n",
    "#     w = np.zeros((n,1))\n",
    "#     B = 0\n",
    "\n",
    "#     cost_his = []\n",
    "#     for i in range (iter):\n",
    "#         A = sigmoid_predict(np.dot(w.T, x) + B)\n",
    "\n",
    "#         cost = (-1/m) * np.sum(y * np.log(A) + (1 - y) * np.log(1 - A))\n",
    "#         cost_his.append(cost)\n",
    "\n",
    "#         dw = "
   ]
  },
  {
   "cell_type": "code",
   "execution_count": 9,
   "metadata": {},
   "outputs": [
    {
     "name": "stdout",
     "output_type": "stream",
     "text": [
      "[[ 1  4  9]\n",
      " [16 25 36]\n",
      " [49 64 81]]\n",
      "[[ 30  36  42]\n",
      " [ 66  81  96]\n",
      " [102 126 150]]\n"
     ]
    }
   ],
   "source": [
    "arr1 = np.array([[1,2,3], [4, 5, 6], [7,8,9]])\n",
    "arr2 = np.array([[1,2,3], [4, 5, 6], [7,8,9]])\n",
    "\n",
    "print(arr1 * arr2)\n",
    "\n",
    "print(np.dot(arr1, arr2))"
   ]
  }
 ],
 "metadata": {
  "kernelspec": {
   "display_name": "Python 3.9.13 64-bit (windows store)",
   "language": "python",
   "name": "python3"
  },
  "language_info": {
   "codemirror_mode": {
    "name": "ipython",
    "version": 3
   },
   "file_extension": ".py",
   "mimetype": "text/x-python",
   "name": "python",
   "nbconvert_exporter": "python",
   "pygments_lexer": "ipython3",
   "version": "3.9.13"
  },
  "orig_nbformat": 4,
  "vscode": {
   "interpreter": {
    "hash": "f7a0a278dfefc79bfeb124637e86121a0eb73531a1347389b271435fabd9754a"
   }
  }
 },
 "nbformat": 4,
 "nbformat_minor": 2
}
