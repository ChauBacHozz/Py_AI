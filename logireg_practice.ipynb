{
 "cells": [
  {
   "cell_type": "code",
   "execution_count": 1,
   "metadata": {},
   "outputs": [],
   "source": [
    "import numpy as np\n",
    "import pandas as pd\n",
    "import matplotlib.pyplot as plt"
   ]
  },
  {
   "cell_type": "code",
   "execution_count": 2,
   "metadata": {},
   "outputs": [
    {
     "name": "stdout",
     "output_type": "stream",
     "text": [
      "      Id  Pclass  Sex   Age  SibSp  Parch     Fare  Embarked\n",
      "0      0       3    0  22.0      1      0   7.2500         1\n",
      "1      1       1    1  38.0      1      0  71.2833         0\n",
      "2      2       3    1  26.0      0      0   7.9250         1\n",
      "3      3       1    1  35.0      1      0  53.1000         1\n",
      "4      4       3    0  35.0      0      0   8.0500         1\n",
      "..   ...     ...  ...   ...    ...    ...      ...       ...\n",
      "886  886       2    0  27.0      0      0  13.0000         1\n",
      "887  887       1    1  19.0      0      0  30.0000         1\n",
      "888  888       3    1  20.0      1      2  23.4500         1\n",
      "889  889       1    0  26.0      0      0  30.0000         0\n",
      "890  890       3    0  32.0      0      0   7.7500         2\n",
      "\n",
      "[891 rows x 8 columns]\n"
     ]
    }
   ],
   "source": [
    "X_train = pd.read_csv(\"./logistic_regression_datasets/train_X.csv\")\n",
    "print(X_train)\n",
    "y_train = pd.read_csv(\"./logistic_regression_datasets/train_Y.csv\")\n",
    "X_test = pd.read_csv(\"./logistic_regression_datasets/test_X.csv\")\n",
    "y_test = pd.read_csv(\"./logistic_regression_datasets/test_Y.csv\")"
   ]
  },
  {
   "cell_type": "code",
   "execution_count": 3,
   "metadata": {},
   "outputs": [],
   "source": [
    "X_train = X_train.drop([\"Id\"], axis = 1)\n",
    "y_train = y_train.drop([\"Id\"], axis = 1)\n",
    "X_test = X_test.drop([\"Id\"], axis = 1)\n",
    "y_test = y_test.drop([\"Id\"], axis = 1)"
   ]
  },
  {
   "cell_type": "code",
   "execution_count": 4,
   "metadata": {},
   "outputs": [
    {
     "name": "stdout",
     "output_type": "stream",
     "text": [
      "(891, 7)\n",
      "(891, 1)\n"
     ]
    }
   ],
   "source": [
    "print(X_train.shape)\n",
    "print(y_train.shape)"
   ]
  },
  {
   "cell_type": "code",
   "execution_count": 5,
   "metadata": {},
   "outputs": [],
   "source": [
    "X_train = X_train.values.T\n",
    "y_train = y_train.values.T\n",
    "X_test = X_test.values.T\n",
    "y_test = y_test.values.T\n"
   ]
  },
  {
   "cell_type": "code",
   "execution_count": 6,
   "metadata": {},
   "outputs": [
    {
     "name": "stdout",
     "output_type": "stream",
     "text": [
      "(7, 891)\n",
      "(1, 891)\n"
     ]
    }
   ],
   "source": [
    "print(X_train.shape)\n",
    "print(y_train.shape)"
   ]
  },
  {
   "cell_type": "code",
   "execution_count": 7,
   "metadata": {},
   "outputs": [],
   "source": [
    "def sigmoid_predict(x):\n",
    "    return 1 / (1 + np.exp(-x))"
   ]
  },
  {
   "cell_type": "code",
   "execution_count": 8,
   "metadata": {},
   "outputs": [],
   "source": [
    "# def model(x, y, learning_rate, iter):\n",
    "#     m = x.shape[1]\n",
    "#     n = x.shape[0]\n",
    "\n",
    "#     w = np.zeros((n,1))\n",
    "#     B = 0\n",
    "\n",
    "#     cost_his = []\n",
    "#     for i in range (iter):\n",
    "#         A = sigmoid_predict(np.dot(w.T, x) + B)\n",
    "\n",
    "#         cost = (-1/m) * np.sum(y * np.log(A) + (1 - y) * np.log(1 - A))\n",
    "#         cost_his.append(cost)\n",
    "\n",
    "#         dw = "
   ]
  },
  {
   "cell_type": "code",
   "execution_count": 9,
   "metadata": {},
   "outputs": [
    {
     "name": "stdout",
     "output_type": "stream",
     "text": [
      "[[ 1  4  9]\n",
      " [16 25 36]\n",
      " [49 64 81]]\n",
      "[[ 30  36  42]\n",
      " [ 66  81  96]\n",
      " [102 126 150]]\n"
     ]
    }
   ],
   "source": [
    "arr1 = np.array([[1,2,3], [4, 5, 6], [7,8,9]])\n",
    "arr2 = np.array([[1,2,3], [4, 5, 6], [7,8,9]])\n",
    "\n",
    "print(arr1 * arr2)\n",
    "\n",
    "print(np.dot(arr1, arr2))"
   ]
  }
 ],
 "metadata": {
  "kernelspec": {
   "display_name": "Python 3.10.6 64-bit",
   "language": "python",
   "name": "python3"
  },
  "language_info": {
   "codemirror_mode": {
    "name": "ipython",
    "version": 3
   },
   "file_extension": ".py",
   "mimetype": "text/x-python",
   "name": "python",
   "nbconvert_exporter": "python",
   "pygments_lexer": "ipython3",
   "version": "3.10.6 (tags/v3.10.6:9c7b4bd, Aug  1 2022, 21:53:49) [MSC v.1932 64 bit (AMD64)]"
  },
  "orig_nbformat": 4,
  "vscode": {
   "interpreter": {
    "hash": "1658d7c139ecb4375ab76a4a9bda7b71499aefd554bc284ea3c47687afb5394a"
   }
  }
 },
 "nbformat": 4,
 "nbformat_minor": 2
}
