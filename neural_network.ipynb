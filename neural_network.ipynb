{
 "cells": [
  {
   "attachments": {},
   "cell_type": "markdown",
   "metadata": {},
   "source": [
    "### IMPORT CÁC THƯ VIỆN CẦN THIẾT:\n",
    "- MATPLOTLIB: DÙNG ĐỂ HIỂN THỊ DỮ LIỆU\n",
    "- NUMPY: THƯ VIỆN ĐẠI SỐ TUYẾN TÍNH, DÙNG ĐỂ XỬ LÝ TOÁN HỌC VỚI MA TRẬN DỮ LIỆU\n",
    "- PANDAS: DÙNG ĐỂ ĐỌC FILE VÀ THAO TÁC TRÊN FILE DỮ LIỆU\n"
   ]
  },
  {
   "cell_type": "code",
   "execution_count": 130,
   "metadata": {},
   "outputs": [],
   "source": [
    "import matplotlib.pyplot as plt\n",
    "import numpy as np\n",
    "import pandas as pd \n"
   ]
  },
  {
   "attachments": {},
   "cell_type": "markdown",
   "metadata": {},
   "source": [
    "### MỞ FILE SỐ LIỆU, TRỘN CÁC DÒNG VỚI NHAU MỘT CÁCH NGẪU NHIÊN"
   ]
  },
  {
   "cell_type": "code",
   "execution_count": 131,
   "metadata": {},
   "outputs": [],
   "source": [
    "X_train = pd.read_excel(\"ANNrauma.xlsx\", sheet_name= \"X\").values\n",
    "X_test = pd.read_excel(\"ANNrauma.xlsx\", sheet_name= \"Xtest\").values\n",
    "Y_train = pd.read_excel(\"ANNrauma.xlsx\", sheet_name= \"Y\").values\n",
    "Y_test = pd.read_excel(\"ANNrauma.xlsx\", sheet_name= \"Ytest\").values\n",
    "\n",
    "s = np.arange(0, len(X_train), 1)\n",
    "np.random.shuffle(s)\n",
    "X_train = X_train[s]\n",
    "Y_train = Y_train[s]\n",
    "s = np.arange(0, len(X_test), 1)\n",
    "X_test = X_test[s]\n",
    "Y_test = Y_test[s]\n"
   ]
  },
  {
   "attachments": {},
   "cell_type": "markdown",
   "metadata": {},
   "source": [
    "##### CHIA DỮ LIỆU TRAIN THÀNH CÁC GÓI NHỎ ĐỂ TRÁNH BỊ OVERFITTING KHI LUYỆN MẠNG"
   ]
  },
  {
   "cell_type": "code",
   "execution_count": 132,
   "metadata": {},
   "outputs": [],
   "source": [
    "Y_chunks = np.array_split(Y_train, len(Y_train) / 18)\n",
    "X_chunks = np.array_split(X_train, len(X_train) / 18)"
   ]
  },
  {
   "attachments": {},
   "cell_type": "markdown",
   "metadata": {},
   "source": [
    "### KHAI BÁO CÁC HÀM KÍCH HOẠT THƯỜNG SỬ DỤNG"
   ]
  },
  {
   "cell_type": "code",
   "execution_count": 133,
   "metadata": {},
   "outputs": [],
   "source": [
    "def ReLU(input):\n",
    "    return np.maximum(input, 0)\n",
    "def leaky_ReLU(input):\n",
    "    return np.maximum(0.07 * input, input)\n",
    "def Linear(input):\n",
    "    return input\n",
    "def Sigmoid(input):\n",
    "    return 1 / (1 + np.exp(-input))\n",
    "def Swish(input):\n",
    "    return input * Sigmoid(input)"
   ]
  },
  {
   "attachments": {},
   "cell_type": "markdown",
   "metadata": {},
   "source": [
    "### KHAI BÁO ĐẠO HÀM CỦA CÁC HOẠT KÍCH HOẠT THEO DỮ LIỆU ĐẦU VÀO"
   ]
  },
  {
   "cell_type": "code",
   "execution_count": 134,
   "metadata": {},
   "outputs": [],
   "source": [
    "def ReLU_de(input):\n",
    "    return (input > 0) * 1\n",
    "def leaky_ReLU_de(input):\n",
    "    return np.where(input > 0, 1, 0.07) \n",
    "def Linear_de(input):\n",
    "    return 1\n",
    "def Sigmoid_de(input):\n",
    "    return np.exp(input)/ np.square(np.exp(input) + 1)\n",
    "def Swish_de(input):\n",
    "    return Swish(input) + Sigmoid(input)*(1 - Swish(input))"
   ]
  },
  {
   "attachments": {},
   "cell_type": "markdown",
   "metadata": {},
   "source": [
    "##### HÀM NHẬN MỘT HÀM KHÁC VÀ TRẢ VỀ ĐẠO HÀM TƯƠNG ỨNG"
   ]
  },
  {
   "cell_type": "code",
   "execution_count": 135,
   "metadata": {},
   "outputs": [],
   "source": [
    "def deriative_func(func):\n",
    "    if func.__name__ == \"ReLU\":\n",
    "        return (ReLU_de)\n",
    "    if func.__name__ == \"leaky_ReLU\":\n",
    "        return (leaky_ReLU_de)\n",
    "    if func.__name__ == \"Linear\":\n",
    "        return (Linear_de)\n",
    "    if func.__name__ == \"Sigmoid\":\n",
    "        return (Sigmoid_de)\n",
    "    if func.__name__ == \"Swish\":\n",
    "        return (Swish_de)"
   ]
  },
  {
   "attachments": {},
   "cell_type": "markdown",
   "metadata": {},
   "source": [
    "### KHAI BÁO CLASS LAYER CỦA MẠNG NỞ RON NHÂN TẠO"
   ]
  },
  {
   "cell_type": "code",
   "execution_count": 136,
   "metadata": {},
   "outputs": [],
   "source": [
    "class Layer:\n",
    "    def __init__(self, dim, act_func, index = 0, isoutputlayer = False):\n",
    "        self.isoutputlayer = isoutputlayer\n",
    "        self.dim = dim\n",
    "        self.weight = 0.01 * (2 * np.random.random(dim) - 1)\n",
    "        self.act_func = act_func\n",
    "        self.de_act_func = deriative_func(act_func)\n",
    "        self.delta = None\n",
    "        self.input = None\n",
    "        self.d_input = None\n",
    "        self.output = None\n",
    "    \n",
    "    def forward(self, input_data):\n",
    "        self.input =  np.dot(input_data, self.weight) \n",
    "        self.d_input = self.de_act_func(self.input)\n",
    "        self.output = self.act_func(self.input)\n",
    "        return self.output\n",
    "    \n",
    "    def backward(self, right_layer, target):\n",
    "        if self.isoutputlayer == True:\n",
    "            self.delta = np.atleast_2d(target - self.output) * self.d_input\n",
    "        else:\n",
    "            self.delta = np.dot(right_layer.delta, right_layer.weight.T) * self.d_input\n",
    "        return self.delta\n",
    "\n",
    "    def update(self, left_layer_output, learning_rate):\n",
    "        self.weight -= learning_rate * np.atleast_2d(np.dot(left_layer_output.T, self.delta))  \n",
    "    "
   ]
  },
  {
   "attachments": {},
   "cell_type": "markdown",
   "metadata": {},
   "source": [
    "### KHAI BÁO CLASS (BẢN VẼ) MẠNG NƠ RON NHÂN TẠO"
   ]
  },
  {
   "cell_type": "code",
   "execution_count": 137,
   "metadata": {},
   "outputs": [],
   "source": [
    "class Neural_Network:\n",
    "    def __init__(self, n_nodes_list, hiddenlayers_actfunc):\n",
    "        self.n_layers = len(n_nodes_list) - 1\n",
    "        self.layers = []\n",
    "        for i in range (1, len(n_nodes_list) - 1):\n",
    "            self.layers.append(Layer(dim = (n_nodes_list[i - 1] + 1, n_nodes_list[i] + 1), act_func=hiddenlayers_actfunc, index = i - 1))\n",
    "        self.layers.append(Layer(dim = (n_nodes_list[i] + 1, n_nodes_list[i + 1]), act_func=Linear, index = i + 1, isoutputlayer=True))\n",
    "    def fit(self, input_matrix, target, learning_rate, epochs):\n",
    "        input_matrix = np.concatenate((input_matrix, np.atleast_2d(np.ones(input_matrix.shape[0])).T), axis=1)\n",
    "        for epoch in range(epochs):\n",
    "            self.layers[0].forward(input_matrix)\n",
    "            for i in range(1, self.n_layers):\n",
    "                self.layers[i].forward(self.layers[i - 1].output)\n",
    "            self.layers[-1].delta = self.layers[-1].output - target\n",
    "            for i in range (self.n_layers - 2, -1 , -1):\n",
    "                self.layers[i].backward(self.layers[i + 1], target)\n",
    "            self.layers[0].update(input_matrix, learning_rate)\n",
    "            for i in range (1, self.n_layers):\n",
    "                self.layers[i].update(self.layers[i - 1].output, learning_rate)    \n",
    "\n",
    "    def predict(self, input_matrix):\n",
    "        input_matrix = np.concatenate((input_matrix, np.atleast_2d(np.ones(input_matrix.shape[0])).T), axis=1)\n",
    "        self.layers[0].forward(input_matrix)\n",
    "        for i in range(1, self.n_layers):\n",
    "            self.layers[i].forward(self.layers[i - 1].output)\n",
    "        return self.layers[-1].output"
   ]
  },
  {
   "attachments": {},
   "cell_type": "markdown",
   "metadata": {},
   "source": [
    "##### TẠO RA MỘT MODEL MẠNG NƠRON ĐỂ SỬ DỤNG, SAU ĐÓ LẦN LƯỢT SỬ DỤNG CÁC GÓI DỮ LIỆU ĐÃ CHIA ĐỂ LUYỆN MODEL NÀY"
   ]
  },
  {
   "cell_type": "code",
   "execution_count": 138,
   "metadata": {},
   "outputs": [],
   "source": [
    "model = Neural_Network([X_train.shape[1], 50, 40, 30,  Y_train.shape[1]], hiddenlayers_actfunc = leaky_ReLU)\n",
    "for i in range (len(X_chunks)):\n",
    "    model.fit(X_chunks[i], Y_chunks[i], learning_rate=0.01, epochs=50000)"
   ]
  },
  {
   "attachments": {},
   "cell_type": "markdown",
   "metadata": {},
   "source": [
    "##### SỬ DỤNG MODEL ĐỂ DỤ ĐOÁN VỚI TẬP DỮ LIỆU KIỂM TRA"
   ]
  },
  {
   "cell_type": "code",
   "execution_count": 139,
   "metadata": {},
   "outputs": [
    {
     "name": "stdout",
     "output_type": "stream",
     "text": [
      "[[0.04852521 0.07496778]\n",
      " [0.02995131 0.04247113]\n",
      " [0.06342148 0.09926856]\n",
      " [0.05043883 0.07707804]\n",
      " [0.11076734 0.17989936]\n",
      " [0.12100926 0.19888383]\n",
      " [0.04009547 0.06059014]\n",
      " [0.00977071 0.01100436]\n",
      " [0.01265698 0.01457494]\n",
      " [0.0968542  0.15711719]\n",
      " [0.01187737 0.01390789]\n",
      " [0.02201912 0.03082387]\n",
      " [0.08456134 0.13655284]\n",
      " [0.03831796 0.05742863]\n",
      " [0.03222517 0.04734664]\n",
      " [0.02840511 0.04111034]]\n"
     ]
    }
   ],
   "source": [
    "Y_pred = model.predict(X_test)\n",
    "print(Y_pred)"
   ]
  }
 ],
 "metadata": {
  "kernelspec": {
   "display_name": "Python 3",
   "language": "python",
   "name": "python3"
  },
  "language_info": {
   "codemirror_mode": {
    "name": "ipython",
    "version": 3
   },
   "file_extension": ".py",
   "mimetype": "text/x-python",
   "name": "python",
   "nbconvert_exporter": "python",
   "pygments_lexer": "ipython3",
   "version": "3.10.6"
  },
  "orig_nbformat": 4,
  "vscode": {
   "interpreter": {
    "hash": "1658d7c139ecb4375ab76a4a9bda7b71499aefd554bc284ea3c47687afb5394a"
   }
  }
 },
 "nbformat": 4,
 "nbformat_minor": 2
}
