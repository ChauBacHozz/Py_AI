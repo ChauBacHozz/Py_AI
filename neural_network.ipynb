{
 "cells": [
  {
   "attachments": {},
   "cell_type": "markdown",
   "metadata": {},
   "source": [
    "### IMPORT CÁC THƯ VIỆN CẦN THIẾT:\n",
    "- MATPLOTLIB: DÙNG ĐỂ HIỂN THỊ DỮ LIỆU\n",
    "- NUMPY: THƯ VIỆN ĐẠI SỐ TUYẾN TÍNH, DÙNG ĐỂ XỬ LÝ TOÁN HỌC VỚI MA TRẬN DỮ LIỆU\n",
    "- PANDAS: DÙNG ĐỂ ĐỌC FILE VÀ THAO TÁC TRÊN FILE DỮ LIỆU\n"
   ]
  },
  {
   "cell_type": "code",
   "execution_count": 113,
   "metadata": {},
   "outputs": [],
   "source": [
    "import matplotlib.pyplot as plt\n",
    "import numpy as np\n",
    "import pandas as pd \n"
   ]
  },
  {
   "attachments": {},
   "cell_type": "markdown",
   "metadata": {},
   "source": [
    "### MỞ FILE SỐ LIỆU, TRỘN CÁC DÒNG VỚI NHAU MỘT CÁCH NGẪU NHIÊN"
   ]
  },
  {
   "cell_type": "code",
   "execution_count": 114,
   "metadata": {},
   "outputs": [
    {
     "data": {
      "text/html": [
       "<div>\n",
       "<style scoped>\n",
       "    .dataframe tbody tr th:only-of-type {\n",
       "        vertical-align: middle;\n",
       "    }\n",
       "\n",
       "    .dataframe tbody tr th {\n",
       "        vertical-align: top;\n",
       "    }\n",
       "\n",
       "    .dataframe thead th {\n",
       "        text-align: right;\n",
       "    }\n",
       "</style>\n",
       "<table border=\"1\" class=\"dataframe\">\n",
       "  <thead>\n",
       "    <tr style=\"text-align: right;\">\n",
       "      <th></th>\n",
       "      <th>GF</th>\n",
       "      <th>TBS</th>\n",
       "      <th>Natri Benzoate</th>\n",
       "      <th>Abs 260</th>\n",
       "      <th>Abs 265</th>\n",
       "      <th>Abs 270</th>\n",
       "      <th>Abs 275</th>\n",
       "      <th>Abs 280</th>\n",
       "      <th>Abs 285</th>\n",
       "      <th>Abs 290</th>\n",
       "    </tr>\n",
       "  </thead>\n",
       "  <tbody>\n",
       "    <tr>\n",
       "      <th>31</th>\n",
       "      <td>2.5</td>\n",
       "      <td>3.0</td>\n",
       "      <td>2.0</td>\n",
       "      <td>0.308</td>\n",
       "      <td>0.416</td>\n",
       "      <td>0.536</td>\n",
       "      <td>0.580</td>\n",
       "      <td>0.503</td>\n",
       "      <td>0.243</td>\n",
       "      <td>0.064</td>\n",
       "    </tr>\n",
       "    <tr>\n",
       "      <th>32</th>\n",
       "      <td>2.5</td>\n",
       "      <td>3.0</td>\n",
       "      <td>2.5</td>\n",
       "      <td>0.340</td>\n",
       "      <td>0.446</td>\n",
       "      <td>0.565</td>\n",
       "      <td>0.603</td>\n",
       "      <td>0.519</td>\n",
       "      <td>0.251</td>\n",
       "      <td>0.073</td>\n",
       "    </tr>\n",
       "    <tr>\n",
       "      <th>7</th>\n",
       "      <td>2.0</td>\n",
       "      <td>2.0</td>\n",
       "      <td>1.5</td>\n",
       "      <td>0.219</td>\n",
       "      <td>0.302</td>\n",
       "      <td>0.392</td>\n",
       "      <td>0.425</td>\n",
       "      <td>0.365</td>\n",
       "      <td>0.168</td>\n",
       "      <td>0.041</td>\n",
       "    </tr>\n",
       "    <tr>\n",
       "      <th>4</th>\n",
       "      <td>3.0</td>\n",
       "      <td>3.0</td>\n",
       "      <td>1.0</td>\n",
       "      <td>0.263</td>\n",
       "      <td>0.386</td>\n",
       "      <td>0.519</td>\n",
       "      <td>0.577</td>\n",
       "      <td>0.503</td>\n",
       "      <td>0.234</td>\n",
       "      <td>0.050</td>\n",
       "    </tr>\n",
       "    <tr>\n",
       "      <th>40</th>\n",
       "      <td>1.0</td>\n",
       "      <td>2.5</td>\n",
       "      <td>0.5</td>\n",
       "      <td>0.154</td>\n",
       "      <td>0.214</td>\n",
       "      <td>0.281</td>\n",
       "      <td>0.321</td>\n",
       "      <td>0.294</td>\n",
       "      <td>0.172</td>\n",
       "      <td>0.055</td>\n",
       "    </tr>\n",
       "  </tbody>\n",
       "</table>\n",
       "</div>"
      ],
      "text/plain": [
       "    GF   TBS  Natri Benzoate  Abs 260  Abs 265  Abs 270  Abs 275  Abs 280  \\\n",
       "31  2.5  3.0             2.0    0.308    0.416    0.536    0.580    0.503   \n",
       "32  2.5  3.0             2.5    0.340    0.446    0.565    0.603    0.519   \n",
       "7   2.0  2.0             1.5    0.219    0.302    0.392    0.425    0.365   \n",
       "4   3.0  3.0             1.0    0.263    0.386    0.519    0.577    0.503   \n",
       "40  1.0  2.5             0.5    0.154    0.214    0.281    0.321    0.294   \n",
       "\n",
       "    Abs 285  Abs 290  \n",
       "31    0.243    0.064  \n",
       "32    0.251    0.073  \n",
       "7     0.168    0.041  \n",
       "4     0.234    0.050  \n",
       "40    0.172    0.055  "
      ]
     },
     "execution_count": 114,
     "metadata": {},
     "output_type": "execute_result"
    }
   ],
   "source": [
    "data = pd.read_excel(\"MTND2.xlsx\")\n",
    "data = data.drop(\"STT\", axis = 1)\n",
    "data = data.sample(frac=1)\n",
    "data.head()\n"
   ]
  },
  {
   "attachments": {},
   "cell_type": "markdown",
   "metadata": {},
   "source": [
    "### CHIA DỮ LIỆU THÀNH DỮ LIỆU HỌC (data_train) VÀ DỮ LIỆU KIỂM TRA (data_test), SAU ĐÓ CHIA THÀNH MA TRẬN ĐẦU TÍN HIỆU (Y) VÀ MA TRẬN NỒNG ĐỘ (X)"
   ]
  },
  {
   "cell_type": "code",
   "execution_count": 115,
   "metadata": {},
   "outputs": [],
   "source": [
    "# Split data into train and test data\n",
    "data_train = data[:int(0.7 * len(data))].values\n",
    "data_test = data[int(0.7 * len(data)):].values\n",
    "# Convert data table to X and Y matricses\n",
    "X_train = data_train[:,0:3].astype(float) \n",
    "Y_train = data_train[:,3:].reshape(-1, 7).astype(float)\n",
    "X_test = data_test[:,0:3].astype(float) \n",
    "Y_test = data_test[:,3:].reshape(-1, 7).astype(float)"
   ]
  },
  {
   "cell_type": "code",
   "execution_count": 116,
   "metadata": {},
   "outputs": [],
   "source": [
    "Y_chunks = np.array_split(Y_train, len(Y_train) / 8)\n",
    "X_chunks = np.array_split(X_train, len(Y_train) / 8)"
   ]
  },
  {
   "attachments": {},
   "cell_type": "markdown",
   "metadata": {},
   "source": [
    "### KHAI BÁO CÁC HÀM KÍCH HOẠT THƯỜNG SỬ DỤNG"
   ]
  },
  {
   "cell_type": "code",
   "execution_count": 117,
   "metadata": {},
   "outputs": [],
   "source": [
    "def ReLU(input):\n",
    "    return np.maximum(input, 0)\n",
    "def leaky_ReLU(input):\n",
    "    return np.maximum(0.01 * input, input)\n",
    "def Linear(input):\n",
    "    return input\n",
    "def Sigmoid(input):\n",
    "    return 1 / (1 + np.exp(-input))\n",
    "def Swish(input):\n",
    "    return input * Sigmoid(input)"
   ]
  },
  {
   "attachments": {},
   "cell_type": "markdown",
   "metadata": {},
   "source": [
    "### KHAI BÁO ĐẠO HÀM CỦA CÁC HOẠT KÍCH HOẠT THEO DỮ LIỆU ĐẦU VÀO"
   ]
  },
  {
   "cell_type": "code",
   "execution_count": 118,
   "metadata": {},
   "outputs": [],
   "source": [
    "def ReLU_de(input):\n",
    "    return (input > 0) * 1\n",
    "def leaky_ReLU_de(input):\n",
    "    return np.where(input > 0, 1, 0.01) \n",
    "def Linear_de(input):\n",
    "    return 1\n",
    "def Sigmoid_de(input):\n",
    "    return np.exp(input)/ np.square(np.exp(input) + 1)\n",
    "def Swish_de(input):\n",
    "    return Swish(input) + Sigmoid(input)*(1 - Swish(input))"
   ]
  },
  {
   "attachments": {},
   "cell_type": "markdown",
   "metadata": {},
   "source": [
    "##### HÀM NHẬN VÀO MỘT MẢNG CHỨA CÁC HÀM KÍCH HOẠT Ở TỪNG LỚP, TRẢ VỀ MỘT MẢNG CÙNG ĐỘ DÀI VỚI ĐẠO HÀM TƯƠNG ỨNG CỦA CÁC HÀM ĐÓ"
   ]
  },
  {
   "cell_type": "code",
   "execution_count": 119,
   "metadata": {},
   "outputs": [],
   "source": [
    "def deriative_func(func_list):\n",
    "    deriative_funcs = []\n",
    "    for func in func_list:\n",
    "        if func.__name__ == \"ReLU\":\n",
    "            deriative_funcs.append(ReLU_de)\n",
    "        if func.__name__ == \"leaky_ReLU\":\n",
    "            deriative_funcs.append(leaky_ReLU_de)\n",
    "        if func.__name__ == \"Linear\":\n",
    "            deriative_funcs.append(Linear_de)\n",
    "        if func.__name__ == \"Sigmoid\":\n",
    "            deriative_funcs.append(Sigmoid_de)\n",
    "        if func.__name__ == \"Swish\":\n",
    "            deriative_funcs.append(Swish_de)\n",
    "    return deriative_funcs"
   ]
  },
  {
   "attachments": {},
   "cell_type": "markdown",
   "metadata": {},
   "source": [
    "### KHAI BÁO CLASS (MODEL) MẠNG NƠ RON NHÂN TẠO"
   ]
  },
  {
   "cell_type": "code",
   "execution_count": 120,
   "metadata": {},
   "outputs": [],
   "source": [
    "class Neural_Network:\n",
    "    def __init__(self, layer_nodes_list, layer_activate_funcs):\n",
    "        self.layerfunc_list = layer_activate_funcs\n",
    "        self.n_layers = len(layer_nodes_list)\n",
    "        self.layer_deriative_funcs = deriative_func(layer_activate_funcs)\n",
    "        # INIT BIAS MATRIX\n",
    "        self.bias = []\n",
    "        for i in range (1, self.n_layers):\n",
    "            self.bias.append(0.01 * np.zeros((1, layer_nodes_list[i])))\n",
    "        # INIT WEIGHTS MATRIX\n",
    "        self.weights = []\n",
    "        for i in range (1, self.n_layers):\n",
    "            self.weights.append(0.01 * np.random.rand(layer_nodes_list[i-1], layer_nodes_list[i]))\n",
    "    def fit(self, input, target, iter, learning_rate):\n",
    "        for j in range (iter):\n",
    "            # FORWARD PASS\n",
    "            input_data = input\n",
    "            layers_outputs = []\n",
    "            layers_inputs = [input_data]\n",
    "            for i in range (self.n_layers):\n",
    "                if i > 0:\n",
    "                    # print(self.weights[i - 1].shape)\n",
    "                    input_data = np.dot(output_data, self.weights[i - 1]) + self.bias[i-1]\n",
    "                    layers_inputs.append(input_data)\n",
    "                output_data = self.layerfunc_list[i](input_data)\n",
    "                layers_outputs.append(output_data)\n",
    "\n",
    "            # BACKPROPAGATION\n",
    "            delta = (layers_outputs[-1] - target)*(self.layer_deriative_funcs[-1](layers_inputs[-1]))\n",
    "            d_weights = [np.dot(layers_outputs[-2].T, delta)]\n",
    "            d_bias = [np.dot(np.ones((1, delta.shape[0])), delta)]\n",
    "\n",
    "            for i in range (self.n_layers - 3, -1, -1):\n",
    "                delta = np.dot(delta, self.weights[i + 1].T) * self.layer_deriative_funcs[i](layers_inputs[i + 1])\n",
    "                d_weights.insert(0,np.dot(layers_outputs[i].T, delta))\n",
    "                d_bias.insert(0,np.dot(np.ones((1, delta.shape[0])), delta))\n",
    "\n",
    "            for i in range (self.n_layers - 2, -1, -1):\n",
    "                self.weights[i] -= learning_rate * d_weights[i]\n",
    "                self.bias[i] -= learning_rate * d_bias[i]\n",
    "            # print(np.sum(np.abs(layers_outputs[-1] - target)))\n",
    "    def predict(self, input):\n",
    "        input_data = input\n",
    "        for i in range (self.n_layers):\n",
    "            if i > 0:\n",
    "                input_data = np.dot(output_data, self.weights[i - 1]) + self.bias[i-1]\n",
    "            output_data = self.layerfunc_list[i](input_data)\n",
    "        return output_data        "
   ]
  },
  {
   "cell_type": "code",
   "execution_count": 121,
   "metadata": {},
   "outputs": [
    {
     "name": "stdout",
     "output_type": "stream",
     "text": [
      "[[1.01774115 0.86908975 1.47780491]\n",
      " [2.55310933 2.40611757 1.56315638]\n",
      " [1.92781913 1.78014869 1.52839148]\n",
      " [2.3331287  2.18589819 1.55092589]\n",
      " [3.23361247 3.08735935 1.60099101]\n",
      " [1.01774115 0.86908975 1.47780491]\n",
      " [2.10349257 1.95601281 1.53815858]\n",
      " [1.01774115 0.86908975 1.47780491]\n",
      " [1.71436507 1.56646293 1.51652385]\n",
      " [1.01774115 0.86908975 1.47780491]\n",
      " [3.10344381 2.9570494  1.59375389]\n",
      " [1.01774115 0.86908975 1.47780491]\n",
      " [1.01774115 0.86908975 1.47780491]\n",
      " [2.67270789 2.52584596 1.56980582]]\n",
      "[[1.  1.  0.5]\n",
      " [2.5 2.5 1. ]\n",
      " [2.5 1.  0.5]\n",
      " [2.5 1.  2.5]\n",
      " [3.  3.  3. ]\n",
      " [0.5 2.  0.5]\n",
      " [2.5 1.  1.5]\n",
      " [0.5 0.5 0.5]\n",
      " [1.2 1.5 1. ]\n",
      " [0.5 1.  0.5]\n",
      " [3.  3.  2. ]\n",
      " [0.5 1.  1. ]\n",
      " [0.5 0.5 2.5]\n",
      " [2.5 2.5 2. ]]\n"
     ]
    }
   ],
   "source": [
    "model = Neural_Network([Y_train.shape[1], 5, 4, X_train.shape[1]], [Linear, ReLU, ReLU, Linear])\n",
    "for i in range(len(Y_chunks)):\n",
    "    model.fit(Y_chunks[i], X_chunks[i], iter = 1000, learning_rate=0.001)\n",
    "# print(ReLU(Y_train))\n",
    "# print(model.predict(Y_test))\n",
    "X_pred = model.predict(Y_test)\n",
    "print(X_pred)\n",
    "print(X_test)"
   ]
  },
  {
   "cell_type": "code",
   "execution_count": 122,
   "metadata": {},
   "outputs": [
    {
     "name": "stdout",
     "output_type": "stream",
     "text": [
      "[[  1.77411494 -13.09102528 195.56098188]\n",
      " [  2.12437303  -3.75529703  56.31563803]\n",
      " [-22.88723466  78.01486928 205.6782967 ]\n",
      " [ -6.67485215 118.58981902 -37.96296427]\n",
      " [  7.78708229   2.91197832 -46.63363288]\n",
      " [103.54822989 -56.54551264 195.56098188]\n",
      " [-15.86029733  95.60128077   2.54390525]\n",
      " [103.54822989  73.81794944 195.56098188]\n",
      " [ 42.86375556   4.43086172  51.65238526]\n",
      " [103.54822989 -13.09102528 195.56098188]\n",
      " [  3.44812695  -1.43168667 -20.31230529]\n",
      " [103.54822989 -13.09102528  47.78049094]\n",
      " [103.54822989  73.81794944 -40.88780362]\n",
      " [  6.90831567   1.03383832 -21.50970877]]\n"
     ]
    }
   ],
   "source": [
    "print(((X_pred - X_test) / X_test ) * 100)"
   ]
  }
 ],
 "metadata": {
  "kernelspec": {
   "display_name": "Python 3",
   "language": "python",
   "name": "python3"
  },
  "language_info": {
   "codemirror_mode": {
    "name": "ipython",
    "version": 3
   },
   "file_extension": ".py",
   "mimetype": "text/x-python",
   "name": "python",
   "nbconvert_exporter": "python",
   "pygments_lexer": "ipython3",
   "version": "3.10.6"
  },
  "orig_nbformat": 4,
  "vscode": {
   "interpreter": {
    "hash": "1658d7c139ecb4375ab76a4a9bda7b71499aefd554bc284ea3c47687afb5394a"
   }
  }
 },
 "nbformat": 4,
 "nbformat_minor": 2
}
