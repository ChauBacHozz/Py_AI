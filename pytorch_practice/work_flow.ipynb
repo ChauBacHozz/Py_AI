{
 "cells": [
  {
   "cell_type": "code",
   "execution_count": 120,
   "metadata": {},
   "outputs": [],
   "source": [
    "import torch\n",
    "from torch import nn"
   ]
  },
  {
   "cell_type": "code",
   "execution_count": 121,
   "metadata": {},
   "outputs": [],
   "source": [
    "import matplotlib.pyplot as plt\n",
    "import pandas as pd"
   ]
  },
  {
   "cell_type": "code",
   "execution_count": 122,
   "metadata": {},
   "outputs": [
    {
     "data": {
      "text/html": [
       "<div>\n",
       "<style scoped>\n",
       "    .dataframe tbody tr th:only-of-type {\n",
       "        vertical-align: middle;\n",
       "    }\n",
       "\n",
       "    .dataframe tbody tr th {\n",
       "        vertical-align: top;\n",
       "    }\n",
       "\n",
       "    .dataframe thead th {\n",
       "        text-align: right;\n",
       "    }\n",
       "</style>\n",
       "<table border=\"1\" class=\"dataframe\">\n",
       "  <thead>\n",
       "    <tr style=\"text-align: right;\">\n",
       "      <th></th>\n",
       "      <th>Hours</th>\n",
       "      <th>Scores</th>\n",
       "    </tr>\n",
       "  </thead>\n",
       "  <tbody>\n",
       "    <tr>\n",
       "      <th>0</th>\n",
       "      <td>2.0</td>\n",
       "      <td>4.1</td>\n",
       "    </tr>\n",
       "    <tr>\n",
       "      <th>1</th>\n",
       "      <td>4.6</td>\n",
       "      <td>6.7</td>\n",
       "    </tr>\n",
       "    <tr>\n",
       "      <th>2</th>\n",
       "      <td>2.5</td>\n",
       "      <td>4.7</td>\n",
       "    </tr>\n",
       "    <tr>\n",
       "      <th>3</th>\n",
       "      <td>8.0</td>\n",
       "      <td>8.2</td>\n",
       "    </tr>\n",
       "    <tr>\n",
       "      <th>4</th>\n",
       "      <td>3.0</td>\n",
       "      <td>5.0</td>\n",
       "    </tr>\n",
       "  </tbody>\n",
       "</table>\n",
       "</div>"
      ],
      "text/plain": [
       "   Hours  Scores\n",
       "0    2.0     4.1\n",
       "1    4.6     6.7\n",
       "2    2.5     4.7\n",
       "3    8.0     8.2\n",
       "4    3.0     5.0"
      ]
     },
     "execution_count": 122,
     "metadata": {},
     "output_type": "execute_result"
    }
   ],
   "source": [
    "df = pd.read_csv(\"giaitich1.csv\")\n",
    "df.head()"
   ]
  },
  {
   "cell_type": "code",
   "execution_count": 123,
   "metadata": {},
   "outputs": [],
   "source": [
    "X = torch.tensor(df[\"Hours\"].values.astype(\"float32\"))\n",
    "y = torch.tensor(df[\"Scores\"].values.astype(\"float32\"))\n"
   ]
  },
  {
   "cell_type": "code",
   "execution_count": 124,
   "metadata": {},
   "outputs": [
    {
     "name": "stdout",
     "output_type": "stream",
     "text": [
      "8 16\n"
     ]
    }
   ],
   "source": [
    "X_train = X[:int(0.7 * len(X))]\n",
    "X_test = X[int(0.7 * len(X)):]\n",
    "y_train = y[:int(0.7 * len(y))]\n",
    "y_test = y[int(0.7 * len(y)):]\n",
    "\n",
    "print(len(X_test), len(X_train))"
   ]
  },
  {
   "cell_type": "code",
   "execution_count": 125,
   "metadata": {},
   "outputs": [
    {
     "data": {
      "text/plain": [
       "<function matplotlib.pyplot.show(close=None, block=None)>"
      ]
     },
     "execution_count": 125,
     "metadata": {},
     "output_type": "execute_result"
    },
    {
     "data": {
      "image/png": "[encoded data removed]",
      "text/plain": [
       "<Figure size 432x288 with 1 Axes>"
      ]
     },
     "metadata": {
      "needs_background": "light"
     },
     "output_type": "display_data"
    }
   ],
   "source": [
    "plt.plot(X_train, y_train, \"ro\")\n",
    "plt.show"
   ]
  },
  {
   "cell_type": "code",
   "execution_count": 126,
   "metadata": {},
   "outputs": [],
   "source": [
    "class LinearRegressionModel(nn.Module):\n",
    "    def __init__(self):\n",
    "        super().__init__()\n",
    "        self.weight = nn.Parameter(torch.randn(1 , requires_grad=True, dtype = torch.float))\n",
    "        self.bias = nn.Parameter(torch.randn(1 , requires_grad=True, dtype = torch.float))\n",
    "    def forward(self, x):\n",
    "        return self.weight * x + self.bias"
   ]
  },
  {
   "cell_type": "code",
   "execution_count": 127,
   "metadata": {},
   "outputs": [
    {
     "data": {
      "text/plain": [
       "[Parameter containing:\n",
       " tensor([0.3367], requires_grad=True),\n",
       " Parameter containing:\n",
       " tensor([0.1288], requires_grad=True)]"
      ]
     },
     "execution_count": 127,
     "metadata": {},
     "output_type": "execute_result"
    }
   ],
   "source": [
    "torch.manual_seed(42)\n",
    "model = LinearRegressionModel()\n",
    "\n",
    "\n",
    "list(model.parameters())"
   ]
  },
  {
   "cell_type": "code",
   "execution_count": 128,
   "metadata": {},
   "outputs": [
    {
     "data": {
      "text/plain": [
       "<function matplotlib.pyplot.show(close=None, block=None)>"
      ]
     },
     "execution_count": 128,
     "metadata": {},
     "output_type": "execute_result"
    },
    {
     "data": {
      "image/png": "[encoded data removed]",
      "text/plain": [
       "<Figure size 432x288 with 1 Axes>"
      ]
     },
     "metadata": {
      "needs_background": "light"
     },
     "output_type": "display_data"
    }
   ],
   "source": [
    "with torch.inference_mode():\n",
    "    y_pred = model(X_test)\n",
    "\n",
    "plt.plot(X_train, y_train, \"ro\")\n",
    "plt.plot(X_test, y_pred, \"go\")\n",
    "plt.show\n"
   ]
  },
  {
   "cell_type": "code",
   "execution_count": 129,
   "metadata": {},
   "outputs": [],
   "source": [
    "loss_fn = nn.L1Loss()\n",
    "optimizer = torch.optim.SGD(params=model.parameters(), lr = 0.001)"
   ]
  },
  {
   "cell_type": "code",
   "execution_count": 130,
   "metadata": {},
   "outputs": [
    {
     "name": "stdout",
     "output_type": "stream",
     "text": [
      "Epoch: 0 | MAE Train Loss: 4.113403797149658 | MAE Test Loss: 4.352766990661621 \n",
      "Epoch: 10 | MAE Train Loss: 3.9285759925842285 | MAE Test Loss: 4.1305694580078125 \n",
      "Epoch: 20 | MAE Train Loss: 3.743748188018799 | MAE Test Loss: 3.9083714485168457 \n",
      "Epoch: 30 | MAE Train Loss: 3.55892014503479 | MAE Test Loss: 3.686173915863037 \n",
      "Epoch: 40 | MAE Train Loss: 3.3740923404693604 | MAE Test Loss: 3.4639761447906494 \n",
      "Epoch: 50 | MAE Train Loss: 3.189263105392456 | MAE Test Loss: 3.241776704788208 \n",
      "Epoch: 60 | MAE Train Loss: 3.004434108734131 | MAE Test Loss: 3.0195775032043457 \n",
      "Epoch: 70 | MAE Train Loss: 2.8196043968200684 | MAE Test Loss: 2.7973783016204834 \n",
      "Epoch: 80 | MAE Train Loss: 2.634775400161743 | MAE Test Loss: 2.575179100036621 \n",
      "Epoch: 90 | MAE Train Loss: 2.4499459266662598 | MAE Test Loss: 2.352980136871338 \n",
      "Epoch: 100 | MAE Train Loss: 2.2651169300079346 | MAE Test Loss: 2.166123628616333 \n",
      "Epoch: 110 | MAE Train Loss: 2.0802879333496094 | MAE Test Loss: 2.0760436058044434 \n",
      "Epoch: 120 | MAE Train Loss: 1.8954585790634155 | MAE Test Loss: 1.9859635829925537 \n",
      "Epoch: 130 | MAE Train Loss: 1.7106295824050903 | MAE Test Loss: 1.8958836793899536 \n",
      "Epoch: 140 | MAE Train Loss: 1.5914819240570068 | MAE Test Loss: 1.8255337476730347 \n",
      "Epoch: 150 | MAE Train Loss: 1.4865593910217285 | MAE Test Loss: 1.757375717163086 \n",
      "Epoch: 160 | MAE Train Loss: 1.3816370964050293 | MAE Test Loss: 1.6892178058624268 \n",
      "Epoch: 170 | MAE Train Loss: 1.3066637516021729 | MAE Test Loss: 1.6334729194641113 \n",
      "Epoch: 180 | MAE Train Loss: 1.2561486959457397 | MAE Test Loss: 1.586003303527832 \n",
      "Epoch: 190 | MAE Train Loss: 1.222382664680481 | MAE Test Loss: 1.5497409105300903 \n",
      "Epoch: 200 | MAE Train Loss: 1.2078415155410767 | MAE Test Loss: 1.5246855020523071 \n",
      "Epoch: 210 | MAE Train Loss: 1.1932997703552246 | MAE Test Loss: 1.499630331993103 \n",
      "Epoch: 220 | MAE Train Loss: 1.1787585020065308 | MAE Test Loss: 1.4745745658874512 \n",
      "Epoch: 230 | MAE Train Loss: 1.1642169952392578 | MAE Test Loss: 1.4606847763061523 \n",
      "Epoch: 240 | MAE Train Loss: 1.1496758460998535 | MAE Test Loss: 1.453176498413086 \n",
      "Epoch: 250 | MAE Train Loss: 1.135134220123291 | MAE Test Loss: 1.4456686973571777 \n",
      "Epoch: 260 | MAE Train Loss: 1.1205930709838867 | MAE Test Loss: 1.4381606578826904 \n",
      "Epoch: 270 | MAE Train Loss: 1.1060515642166138 | MAE Test Loss: 1.4462840557098389 \n",
      "Epoch: 280 | MAE Train Loss: 1.0945661067962646 | MAE Test Loss: 1.4539506435394287 \n",
      "Epoch: 290 | MAE Train Loss: 1.0918939113616943 | MAE Test Loss: 1.4542756080627441 \n",
      "Epoch: 300 | MAE Train Loss: 1.0892215967178345 | MAE Test Loss: 1.4546005725860596 \n",
      "Epoch: 310 | MAE Train Loss: 1.0865495204925537 | MAE Test Loss: 1.454925775527954 \n",
      "Epoch: 320 | MAE Train Loss: 1.0838773250579834 | MAE Test Loss: 1.4552505016326904 \n",
      "Epoch: 330 | MAE Train Loss: 1.081204891204834 | MAE Test Loss: 1.455575704574585 \n",
      "Epoch: 340 | MAE Train Loss: 1.0785328149795532 | MAE Test Loss: 1.4559004306793213 \n",
      "Epoch: 350 | MAE Train Loss: 1.075860619544983 | MAE Test Loss: 1.4562257528305054 \n",
      "Epoch: 360 | MAE Train Loss: 1.073188304901123 | MAE Test Loss: 1.4565505981445312 \n",
      "Epoch: 370 | MAE Train Loss: 1.0705162286758423 | MAE Test Loss: 1.4568758010864258 \n",
      "Epoch: 380 | MAE Train Loss: 1.0678436756134033 | MAE Test Loss: 1.457200527191162 \n",
      "Epoch: 390 | MAE Train Loss: 1.065171480178833 | MAE Test Loss: 1.4575257301330566 \n",
      "\n",
      "Parameter containing:\n",
      "tensor([1.1469], requires_grad=True) Parameter containing:\n",
      "tensor([0.4239], requires_grad=True)\n"
     ]
    },
    {
     "data": {
      "text/plain": [
       "<function matplotlib.pyplot.show(close=None, block=None)>"
      ]
     },
     "execution_count": 130,
     "metadata": {},
     "output_type": "execute_result"
    },
    {
     "data": {
      "image/png": "[encoded data removed]",
      "text/plain": [
       "<Figure size 432x288 with 1 Axes>"
      ]
     },
     "metadata": {
      "needs_background": "light"
     },
     "output_type": "display_data"
    }
   ],
   "source": [
    "torch.manual_seed(42)\n",
    "epochs = 400\n",
    "train_loss_values = []\n",
    "test_loss_values = []\n",
    "epoch_count = []\n",
    "for i in range (epochs):\n",
    "    model.train()\n",
    "    y_pred = model(X_train)\n",
    "    loss = loss_fn(y_pred, y_train)\n",
    "    optimizer.zero_grad()\n",
    "    # print(f'The {i} loop has{model.weight.grad} with  weight is {model.weight}3')\n",
    "    loss.backward()\n",
    "    optimizer.step()\n",
    "    with torch.inference_mode():\n",
    "      # 1. Forward pass on test data\n",
    "        test_pred = model(X_test)\n",
    "\n",
    "      # 2. Caculate loss on test data\n",
    "        test_loss = loss_fn(test_pred, y_test.type(torch.float)) # predictions come in torch.float datatype, so comparisons need to be done with tensors of the same type\n",
    "\n",
    "      # Print out what's happening\n",
    "        if i % 10 == 0:\n",
    "            epoch_count.append(i)\n",
    "            train_loss_values.append(loss.detach().numpy())\n",
    "            test_loss_values.append(test_loss.detach().numpy())\n",
    "            print(f\"Epoch: {i} | MAE Train Loss: {loss} | MAE Test Loss: {test_loss} \")\n",
    "print()\n",
    "print(model.weight, model.bias)\n",
    "with torch.inference_mode():\n",
    "    y_pred = model(X_test)\n",
    "plt.plot(X_train, y_train, \"ro\")\n",
    "plt.plot(X_test, y_pred, \"g\")\n",
    "plt.show"
   ]
  },
  {
   "cell_type": "code",
   "execution_count": 131,
   "metadata": {},
   "outputs": [
    {
     "data": {
      "text/plain": [
       "<matplotlib.legend.Legend at 0x1b80e8453f0>"
      ]
     },
     "execution_count": 131,
     "metadata": {},
     "output_type": "execute_result"
    },
    {
     "data": {
      "image/png": "[encoded data removed]",
      "text/plain": [
       "<Figure size 432x288 with 1 Axes>"
      ]
     },
     "metadata": {
      "needs_background": "light"
     },
     "output_type": "display_data"
    }
   ],
   "source": [
    "plt.plot(epoch_count, train_loss_values, label=\"Train loss\")\n",
    "plt.plot(epoch_count, test_loss_values, label=\"Test loss\")\n",
    "plt.title(\"Training and test loss curves\")\n",
    "plt.ylabel(\"Loss\")\n",
    "plt.xlabel(\"Epochs\")\n",
    "plt.legend()"
   ]
  },
  {
   "cell_type": "code",
   "execution_count": 133,
   "metadata": {},
   "outputs": [
    {
     "data": {
      "image/png": "[encoded data removed]",
      "text/plain": [
       "<Figure size 432x288 with 1 Axes>"
      ]
     },
     "metadata": {
      "needs_background": "light"
     },
     "output_type": "display_data"
    }
   ],
   "source": [
    "plt.plot(X_test, y_pred, \"ro\")\n",
    "plt.plot(X_test, y_test, \"go\")\n",
    "plt.show()"
   ]
  },
  {
   "cell_type": "code",
   "execution_count": 136,
   "metadata": {},
   "outputs": [
    {
     "name": "stdout",
     "output_type": "stream",
     "text": [
      "Saving model to: LinearRegressionModel\\pytorch_LinearRegression_model\n"
     ]
    }
   ],
   "source": [
    "from pathlib import Path\n",
    "MODEL_PATH = Path(\"LinearRegressionModel\")\n",
    "MODEL_PATH.mkdir(parents = True, exist_ok=True)\n",
    "\n",
    "MODEL_NAME = \"pytorch_LinearRegression_model\"\n",
    "MODEL_SAVE_PATH = MODEL_PATH/MODEL_NAME\n",
    "print(f\"Saving model to: {MODEL_SAVE_PATH}\")\n",
    "torch.save(obj=model.state_dict(), # only saving the state_dict() only saves the models learned parameters\n",
    "           f=MODEL_SAVE_PATH)"
   ]
  },
  {
   "cell_type": "code",
   "execution_count": 137,
   "metadata": {},
   "outputs": [
    {
     "data": {
      "text/plain": [
       "<All keys matched successfully>"
      ]
     },
     "execution_count": 137,
     "metadata": {},
     "output_type": "execute_result"
    }
   ],
   "source": [
    "load_model = LinearRegressionModel()\n",
    "load_model.load_state_dict(torch.load(f = MODEL_SAVE_PATH))\n"
   ]
  },
  {
   "cell_type": "code",
   "execution_count": 139,
   "metadata": {},
   "outputs": [
    {
     "data": {
      "text/plain": [
       "OrderedDict([('weight', tensor([1.1469])), ('bias', tensor([0.4239]))])"
      ]
     },
     "execution_count": 139,
     "metadata": {},
     "output_type": "execute_result"
    }
   ],
   "source": [
    "load_model.state_dict()"
   ]
  }
 ],
 "metadata": {
  "kernelspec": {
   "display_name": "Python 3.10.6 64-bit",
   "language": "python",
   "name": "python3"
  },
  "language_info": {
   "codemirror_mode": {
    "name": "ipython",
    "version": 3
   },
   "file_extension": ".py",
   "mimetype": "text/x-python",
   "name": "python",
   "nbconvert_exporter": "python",
   "pygments_lexer": "ipython3",
   "version": "3.10.6"
  },
  "orig_nbformat": 4,
  "vscode": {
   "interpreter": {
    "hash": "1658d7c139ecb4375ab76a4a9bda7b71499aefd554bc284ea3c47687afb5394a"
   }
  }
 },
 "nbformat": 4,
 "nbformat_minor": 2
}
