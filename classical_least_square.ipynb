{
 "cells": [
  {
   "cell_type": "code",
   "execution_count": 10,
   "metadata": {},
   "outputs": [],
   "source": [
    "import numpy as np\n",
    "import pandas as pd\n",
    "import matplotlib.pyplot as plt"
   ]
  },
  {
   "cell_type": "markdown",
   "metadata": {},
   "source": [
    "CLS"
   ]
  },
  {
   "cell_type": "code",
   "execution_count": 11,
   "metadata": {},
   "outputs": [
    {
     "data": {
      "text/plain": [
       "array([[1, 2, 3, 4],\n",
       "       [4, 5, 6, 7],\n",
       "       [5, 4, 3, 6],\n",
       "       [5, 6, 7, 8],\n",
       "       [3, 5, 6, 7],\n",
       "       [8, 5, 9, 5]])"
      ]
     },
     "execution_count": 11,
     "metadata": {},
     "output_type": "execute_result"
    }
   ],
   "source": [
    "X = np.array([[1, 2, 3, 4], [4, 5, 6, 7], [5, 4, 3, 6], [5, 6, 7, 8] , [3, 5, 6, 7] , [8, 5, 9, 5]])\n",
    "X"
   ]
  },
  {
   "cell_type": "code",
   "execution_count": 12,
   "metadata": {},
   "outputs": [
    {
     "data": {
      "text/plain": [
       "array([[1, 2, 3, 4, 5, 9],\n",
       "       [3, 4, 5, 6, 7, 7],\n",
       "       [5, 6, 7, 8, 9, 2],\n",
       "       [2, 3, 4, 5, 6, 8],\n",
       "       [9, 8, 7, 6, 5, 5],\n",
       "       [1, 3, 5, 7, 8, 9]])"
      ]
     },
     "execution_count": 12,
     "metadata": {},
     "output_type": "execute_result"
    }
   ],
   "source": [
    "y=np.array([[1, 2, 3, 4, 5, 9], [3, 4, 5, 6, 7, 7], [5, 6, 7, 8, 9, 2], [2, 3, 4, 5, 6, 8], [9, 8, 7, 6, 5, 5], [1, 3, 5, 7, 8, 9]])\n",
    "y"
   ]
  },
  {
   "cell_type": "code",
   "execution_count": 13,
   "metadata": {},
   "outputs": [],
   "source": [
    "K = np.dot(np.dot(np.linalg.inv(np.dot(X.T, X)), X.T), y)"
   ]
  },
  {
   "cell_type": "code",
   "execution_count": 14,
   "metadata": {},
   "outputs": [
    {
     "data": {
      "text/plain": [
       "array([[-0.51042997,  0.06939123,  0.64921243,  1.22903363,  1.6905066 ,\n",
       "         0.29757344],\n",
       "       [ 2.26170711,  0.51905066, -1.22360579, -2.96626224, -4.47914006,\n",
       "        -7.36462324],\n",
       "       [-0.70604513, -0.43529161, -0.1645381 ,  0.10621541,  0.23286505,\n",
       "         2.81736909],\n",
       "       [-0.09120903,  0.66294168,  1.41709238,  2.17124308,  2.94657301,\n",
       "         3.66347382]])"
      ]
     },
     "execution_count": 14,
     "metadata": {},
     "output_type": "execute_result"
    }
   ],
   "source": [
    "K"
   ]
  },
  {
   "cell_type": "code",
   "execution_count": 15,
   "metadata": {},
   "outputs": [],
   "source": [
    "y_test = np.array([2,4,6,8,9,3])"
   ]
  },
  {
   "cell_type": "code",
   "execution_count": 16,
   "metadata": {},
   "outputs": [
    {
     "data": {
      "text/plain": [
       "array([10.88317176,  6.41113597,  9.08227691,  5.83842903])"
      ]
     },
     "execution_count": 16,
     "metadata": {},
     "output_type": "execute_result"
    }
   ],
   "source": [
    "x_test = np.dot(np.dot(y_test, K.T), np.linalg.inv(np.dot(K, K.T)))\n",
    "x_test"
   ]
  },
  {
   "cell_type": "code",
   "execution_count": null,
   "metadata": {},
   "outputs": [],
   "source": []
  }
 ],
 "metadata": {
  "kernelspec": {
   "display_name": "Python 3.9.13 64-bit (windows store)",
   "language": "python",
   "name": "python3"
  },
  "language_info": {
   "codemirror_mode": {
    "name": "ipython",
    "version": 3
   },
   "file_extension": ".py",
   "mimetype": "text/x-python",
   "name": "python",
   "nbconvert_exporter": "python",
   "pygments_lexer": "ipython3",
   "version": "3.9.13"
  },
  "orig_nbformat": 4,
  "vscode": {
   "interpreter": {
    "hash": "f7a0a278dfefc79bfeb124637e86121a0eb73531a1347389b271435fabd9754a"
   }
  }
 },
 "nbformat": 4,
 "nbformat_minor": 2
}
